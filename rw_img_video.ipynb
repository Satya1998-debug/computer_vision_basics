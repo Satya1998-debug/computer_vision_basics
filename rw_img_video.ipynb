{
 "cells": [
  {
   "cell_type": "code",
   "execution_count": null,
   "id": "27be851c",
   "metadata": {},
   "outputs": [],
   "source": [
    "# !pip install opencv-python\n",
    "# !pip install ipykernel"
   ]
  },
  {
   "cell_type": "code",
   "execution_count": 1,
   "id": "d007edc9",
   "metadata": {},
   "outputs": [],
   "source": [
    "import cv2"
   ]
  },
  {
   "cell_type": "code",
   "execution_count": null,
   "id": "0e811fa9",
   "metadata": {},
   "outputs": [
    {
     "name": "stdout",
     "output_type": "stream",
     "text": [
      "Image read successfully.\n"
     ]
    }
   ],
   "source": [
    "# Read the image\n",
    "img = cv2.imread(\"media/mountain.jpg\") # returns a numpy array\n",
    "if img is None:\n",
    "    print(\"Error: Could not read the image.\")\n",
    "else:\n",
    "    print(\"Image read successfully.\")\n"
   ]
  },
  {
   "cell_type": "code",
   "execution_count": null,
   "id": "442165fe",
   "metadata": {},
   "outputs": [],
   "source": [
    "# Display the image\n",
    "cv2.imshow(\"Mountain\", img)\n",
    "cv2.waitKey(1000)  # Wait for 5000 milliseconds (5 seconds)\n",
    "cv2.destroyAllWindows()"
   ]
  },
  {
   "cell_type": "code",
   "execution_count": null,
   "id": "5d6b9b8c",
   "metadata": {},
   "outputs": [
    {
     "data": {
      "text/plain": [
       "True"
      ]
     },
     "execution_count": 7,
     "metadata": {},
     "output_type": "execute_result"
    }
   ],
   "source": [
    "# write image\n",
    "img_new = img + 100  # Add 100 to each pixel value\n",
    "cv2.imwrite(\"media/mountain_modified.jpg\", img_new)"
   ]
  },
  {
   "cell_type": "code",
   "execution_count": 2,
   "id": "ea540c0e",
   "metadata": {},
   "outputs": [],
   "source": [
    "# read a video\n",
    "video_cap = cv2.VideoCapture(\"media/mountain.mp4\")"
   ]
  },
  {
   "cell_type": "code",
   "execution_count": null,
   "id": "359598e3",
   "metadata": {},
   "outputs": [],
   "source": [
    "# display a video\n",
    "while True:\n",
    "    ret, frame = video_cap.read() # each frame is a numpy array\n",
    "    if not ret:  # ret is false if something wrong with the video, so exit loop\n",
    "        break \n",
    "\n",
    "    cv2.imshow(\"Mountain Video\", frame)  # as each frame is an image\n",
    "\n",
    "    # Wait for 25 milliseconds and check if 'q' is pressed\n",
    "    if cv2.waitKey(1) & 0xFF == ord('q'):  # wait for 1ms and check for 'q' key press between each frame\n",
    "        break\n",
    "    \n",
    "# Release the video capture object and close all OpenCV windows\n",
    "video_cap.release()\n",
    "cv2.destroyAllWindows()"
   ]
  },
  {
   "cell_type": "code",
   "execution_count": 6,
   "id": "1466e533",
   "metadata": {},
   "outputs": [
    {
     "name": "stdout",
     "output_type": "stream",
     "text": [
      "Video Width: 1366, Height: 720, FPS: 23\n"
     ]
    }
   ],
   "source": [
    "# write a video\n",
    "video_cap = cv2.VideoCapture(\"media/mountain.mp4\")\n",
    "fourcc = cv2.VideoWriter_fourcc(*'mp4v')  # Codec for MP4 format\n",
    "\n",
    "width = int(video_cap.get(cv2.CAP_PROP_FRAME_WIDTH))  # Get the width of the video\n",
    "height = int(video_cap.get(cv2.CAP_PROP_FRAME_HEIGHT))  # Get the height\n",
    "fps = int(video_cap.get(cv2.CAP_PROP_FPS))  # Get the frames per second\n",
    "print(f\"Video Width: {width}, Height: {height}, FPS: {fps}\")\n",
    "\n",
    "out = cv2.VideoWriter(\"media/mountain_new.mp4\", fourcc, 15.0, (width, height))  # 30 FPS\n",
    "\n",
    "while True:\n",
    "    ret, frame = video_cap.read()  # Read each frame, at the last, ret = false, frame = None\n",
    "    if not ret:\n",
    "        break  # Exit loop if no frame is returned\n",
    "    \n",
    "    frame = frame + 30  # Modify the frame by adding 100 to each pixel value (for demonstration)\n",
    "\n",
    "    # Write the frame to the output video file\n",
    "    out.write(frame)\n",
    "\n",
    "# Release the video capture and writer objects\n",
    "video_cap.release()\n",
    "out.release()\n",
    "cv2.destroyAllWindows()"
   ]
  }
 ],
 "metadata": {
  "kernelspec": {
   "display_name": "cvenv_01",
   "language": "python",
   "name": "python3"
  },
  "language_info": {
   "codemirror_mode": {
    "name": "ipython",
    "version": 3
   },
   "file_extension": ".py",
   "mimetype": "text/x-python",
   "name": "python",
   "nbconvert_exporter": "python",
   "pygments_lexer": "ipython3",
   "version": "3.13.5"
  }
 },
 "nbformat": 4,
 "nbformat_minor": 5
}
